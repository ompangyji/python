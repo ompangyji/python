{
 "cells": [
  {
   "cell_type": "markdown",
   "id": "3ac95a5c-d0b5-4509-947b-563cb27455f4",
   "metadata": {},
   "source": [
    "# 문자열 메소드(객체 안에 들어있는 함수)"
   ]
  },
  {
   "cell_type": "code",
   "execution_count": 2,
   "id": "ff2e2f17-3a17-45b0-b5e9-883f55d3d0f3",
   "metadata": {
    "tags": []
   },
   "outputs": [],
   "source": [
    "a = 'hello my name is ompang'"
   ]
  },
  {
   "cell_type": "code",
   "execution_count": 3,
   "id": "ed38c666-8f43-4a37-96b2-f896395a8298",
   "metadata": {
    "tags": []
   },
   "outputs": [
    {
     "name": "stdout",
     "output_type": "stream",
     "text": [
      "hello my name is ompang\n"
     ]
    }
   ],
   "source": [
    "print(a)"
   ]
  },
  {
   "cell_type": "code",
   "execution_count": 4,
   "id": "b6047661-1347-4c04-b56b-e1d7c0780289",
   "metadata": {
    "tags": []
   },
   "outputs": [
    {
     "ename": "TypeError",
     "evalue": "'str' object does not support item assignment",
     "output_type": "error",
     "traceback": [
      "\u001b[1;31m---------------------------------------------------------------------------\u001b[0m",
      "\u001b[1;31mTypeError\u001b[0m                                 Traceback (most recent call last)",
      "Cell \u001b[1;32mIn[4], line 2\u001b[0m\n\u001b[0;32m      1\u001b[0m \u001b[38;5;66;03m#문자열은 immutable하기 때문에 수정 불가능\u001b[39;00m\n\u001b[1;32m----> 2\u001b[0m a[\u001b[38;5;241m0\u001b[39m] \u001b[38;5;241m=\u001b[39m \u001b[38;5;124m'\u001b[39m\u001b[38;5;124mH\u001b[39m\u001b[38;5;124m'\u001b[39m\n",
      "\u001b[1;31mTypeError\u001b[0m: 'str' object does not support item assignment"
     ]
    }
   ],
   "source": [
    "#문자열은 immutable하기 때문에 수정 불가능\n",
    "a[0] = 'H'"
   ]
  },
  {
   "cell_type": "code",
   "execution_count": 5,
   "id": "422e2ab3-17f3-49de-96d4-7b9954c05c26",
   "metadata": {
    "tags": []
   },
   "outputs": [
    {
     "name": "stdout",
     "output_type": "stream",
     "text": [
      "hello my name is ompang\n"
     ]
    }
   ],
   "source": [
    "a.capitalize()\n",
    "print(a)"
   ]
  },
  {
   "cell_type": "code",
   "execution_count": 6,
   "id": "7be4fba4-f0c6-48f9-985d-23d36e91ef3e",
   "metadata": {
    "tags": []
   },
   "outputs": [
    {
     "name": "stdout",
     "output_type": "stream",
     "text": [
      "Hello my name is ompang\n"
     ]
    }
   ],
   "source": [
    "a = a.capitalize()\n",
    "print(a)"
   ]
  },
  {
   "cell_type": "code",
   "execution_count": 8,
   "id": "8560039f-9b20-4ae9-b308-0ed64d9482f0",
   "metadata": {
    "tags": []
   },
   "outputs": [
    {
     "name": "stdout",
     "output_type": "stream",
     "text": [
      "Hello my name is ompang\n"
     ]
    }
   ],
   "source": [
    "a.title()\n",
    "print(a)"
   ]
  },
  {
   "cell_type": "code",
   "execution_count": 9,
   "id": "dccaf317-6cbf-41e6-90de-13aca32b0d85",
   "metadata": {
    "tags": []
   },
   "outputs": [
    {
     "name": "stdout",
     "output_type": "stream",
     "text": [
      "Hello My Name Is Ompang\n"
     ]
    }
   ],
   "source": [
    "a = a.title()\n",
    "print(a)"
   ]
  },
  {
   "cell_type": "code",
   "execution_count": 12,
   "id": "f9410d72-a631-435f-aef1-8c0334e40020",
   "metadata": {
    "tags": []
   },
   "outputs": [
    {
     "data": {
      "text/plain": [
       "'HELLO MY NAME IS OMPANG'"
      ]
     },
     "execution_count": 12,
     "metadata": {},
     "output_type": "execute_result"
    }
   ],
   "source": [
    "a.upper()"
   ]
  },
  {
   "cell_type": "code",
   "execution_count": 11,
   "id": "9e5d1811-96b1-4dbd-9224-d7a3deaa5009",
   "metadata": {
    "tags": []
   },
   "outputs": [
    {
     "data": {
      "text/plain": [
       "'hello my name is ompang'"
      ]
     },
     "execution_count": 11,
     "metadata": {},
     "output_type": "execute_result"
    }
   ],
   "source": [
    "a.lower()"
   ]
  },
  {
   "cell_type": "code",
   "execution_count": 13,
   "id": "7c4fd373-a3eb-44da-8ffa-36423f56efa5",
   "metadata": {
    "tags": []
   },
   "outputs": [
    {
     "name": "stdout",
     "output_type": "stream",
     "text": [
      "Hello My Name Is Ompang\n"
     ]
    }
   ],
   "source": [
    "print(a)"
   ]
  },
  {
   "cell_type": "code",
   "execution_count": 15,
   "id": "ba888575-ef9b-4859-bd10-f25616766530",
   "metadata": {
    "tags": []
   },
   "outputs": [
    {
     "data": {
      "text/plain": [
       "'hi?my?name'"
      ]
     },
     "execution_count": 15,
     "metadata": {},
     "output_type": "execute_result"
    }
   ],
   "source": [
    "my_list = ['hi', 'my', 'name']\n",
    "\n",
    "'?'.join(my_list)"
   ]
  },
  {
   "cell_type": "code",
   "execution_count": 19,
   "id": "cb00d409-c154-4fc4-abef-d3dc561faa31",
   "metadata": {
    "tags": []
   },
   "outputs": [
    {
     "name": "stdout",
     "output_type": "stream",
     "text": [
      "                   hello   \n",
      "hello\n",
      "ello\n",
      "ellohihihihihihi\n",
      "hihihihihihihihhello\n"
     ]
    }
   ],
   "source": [
    "# .strip([chars])\n",
    "\n",
    "my_string = '                   hello   '\n",
    "\n",
    "print(my_string)\n",
    "print(my_string.strip()) #좌우에서 필요없는 문자 삭제?\n",
    "\n",
    "my_string2 = \"hihihihihihihihhellohihihihihihi\"\n",
    "print(my_string2.strip('hi'))\n",
    "print(my_string2.lstrip('hi'))\n",
    "print(my_string2.rstrip('hi'))"
   ]
  },
  {
   "cell_type": "code",
   "execution_count": 21,
   "id": "85a7f664-5ae3-4b8d-9406-452a8e36bb56",
   "metadata": {
    "tags": []
   },
   "outputs": [
    {
     "data": {
      "text/plain": [
       "'w!!!ooooooooooooooooooooow'"
      ]
     },
     "execution_count": 21,
     "metadata": {},
     "output_type": "execute_result"
    }
   ],
   "source": [
    "# .replace(old, new[, count])\n",
    "a = 'woooooooooooooooooooooooow'\n",
    "a.replace('o', '!', 3)"
   ]
  },
  {
   "cell_type": "code",
   "execution_count": 26,
   "id": "bd6cb50f-64d9-426e-aecc-1b615f581a73",
   "metadata": {
    "tags": []
   },
   "outputs": [
    {
     "name": "stdout",
     "output_type": "stream",
     "text": [
      "1\n",
      "1\n",
      "-1\n",
      "-1\n",
      "1\n",
      "2\n",
      "-1\n",
      "-1\n"
     ]
    }
   ],
   "source": [
    "# .find(x)\n",
    "a = 'apple'\n",
    "print(a.find('p'))\n",
    "print(a.find('p'))\n",
    "print(a.find('z'))\n",
    "\n",
    "for i in range(len(a)):\n",
    "    if 'p' == a[i]:\n",
    "        print(i)\n",
    "        \n",
    "    else:\n",
    "        print(-1)"
   ]
  },
  {
   "cell_type": "code",
   "execution_count": 27,
   "id": "25986e82-95a1-41db-aba9-048ec28bacbd",
   "metadata": {
    "tags": []
   },
   "outputs": [
    {
     "name": "stdout",
     "output_type": "stream",
     "text": [
      "0\n"
     ]
    },
    {
     "ename": "ValueError",
     "evalue": "substring not found",
     "output_type": "error",
     "traceback": [
      "\u001b[1;31m---------------------------------------------------------------------------\u001b[0m",
      "\u001b[1;31mValueError\u001b[0m                                Traceback (most recent call last)",
      "Cell \u001b[1;32mIn[27], line 4\u001b[0m\n\u001b[0;32m      2\u001b[0m a \u001b[38;5;241m=\u001b[39m \u001b[38;5;124m'\u001b[39m\u001b[38;5;124mapple\u001b[39m\u001b[38;5;124m'\u001b[39m\n\u001b[0;32m      3\u001b[0m \u001b[38;5;28mprint\u001b[39m(a\u001b[38;5;241m.\u001b[39mindex(\u001b[38;5;124m'\u001b[39m\u001b[38;5;124ma\u001b[39m\u001b[38;5;124m'\u001b[39m))\n\u001b[1;32m----> 4\u001b[0m \u001b[38;5;28mprint\u001b[39m(a\u001b[38;5;241m.\u001b[39mindex(\u001b[38;5;124m'\u001b[39m\u001b[38;5;124mz\u001b[39m\u001b[38;5;124m'\u001b[39m))\n",
      "\u001b[1;31mValueError\u001b[0m: substring not found"
     ]
    }
   ],
   "source": [
    "# .index(x)\n",
    "a = 'apple'\n",
    "print(a.index('a'))\n",
    "print(a.index('z'))"
   ]
  },
  {
   "cell_type": "code",
   "execution_count": 28,
   "id": "781769e0-68be-4c8c-9ca8-0941914eb351",
   "metadata": {
    "tags": []
   },
   "outputs": [
    {
     "data": {
      "text/plain": [
       "['my', 'name', 'is']"
      ]
     },
     "execution_count": 28,
     "metadata": {},
     "output_type": "execute_result"
    }
   ],
   "source": [
    "# .split(x)\n",
    "a = 'my_name_is'\n",
    "a.split('_')"
   ]
  },
  {
   "cell_type": "code",
   "execution_count": 29,
   "id": "51d6352f-b1e6-4c23-9b4c-ab5b7b3dc7d3",
   "metadata": {
    "tags": []
   },
   "outputs": [
    {
     "data": {
      "text/plain": [
       "9"
      ]
     },
     "execution_count": 29,
     "metadata": {},
     "output_type": "execute_result"
    }
   ],
   "source": [
    "# .count(x)\n",
    "\n",
    "'wooooooooow'.count('o')"
   ]
  },
  {
   "cell_type": "code",
   "execution_count": null,
   "id": "19403918-d958-46b4-92c2-5176d6dcbc0d",
   "metadata": {},
   "outputs": [],
   "source": []
  },
  {
   "cell_type": "markdown",
   "id": "18097b20-4d3e-4b5a-b72c-b960759bc446",
   "metadata": {},
   "source": [
    "# 리스트 메소드"
   ]
  },
  {
   "cell_type": "code",
   "execution_count": 33,
   "id": "f2c7946a-58f9-49a0-bb9c-dcaf14683c55",
   "metadata": {
    "tags": []
   },
   "outputs": [],
   "source": [
    "numbers = [1, 5, 2, 6, 2, 1]"
   ]
  },
  {
   "cell_type": "code",
   "execution_count": 34,
   "id": "6f95a9df-36ca-4bad-857f-489ee899bfcc",
   "metadata": {
    "tags": []
   },
   "outputs": [
    {
     "name": "stdout",
     "output_type": "stream",
     "text": [
      "[1, 5, 2, 6, 2, 1, 10]\n"
     ]
    }
   ],
   "source": [
    "# .append(x)\n",
    "numbers.append(10)\n",
    "print(numbers)"
   ]
  },
  {
   "cell_type": "code",
   "execution_count": 35,
   "id": "2635fa6c-0995-476c-a137-29d3c1b6229d",
   "metadata": {
    "tags": []
   },
   "outputs": [
    {
     "name": "stdout",
     "output_type": "stream",
     "text": [
      "[1, 5, 2, 6, 2, 1, 10, 99, 100]\n",
      "[1, 5, 2, 6, 2, 1, 10, 99, 100, 99, 100]\n"
     ]
    }
   ],
   "source": [
    "# .extend(iterable)\n",
    "a = [99, 100]\n",
    "\n",
    "numbers.extend(a)\n",
    "print(numbers)\n",
    "print(numbers + a)"
   ]
  },
  {
   "cell_type": "code",
   "execution_count": 36,
   "id": "706bf199-5289-4f9e-8a48-33434d5e0725",
   "metadata": {
    "tags": []
   },
   "outputs": [
    {
     "name": "stdout",
     "output_type": "stream",
     "text": [
      "[1, 5, 2, 3.5, 6, 2, 1, 10, 99, 100]\n"
     ]
    }
   ],
   "source": [
    "# .inster(idx, x)\n",
    "numbers.insert(3, 3.5)\n",
    "print(numbers)"
   ]
  },
  {
   "cell_type": "code",
   "execution_count": 37,
   "id": "7f520d24-a188-4676-8eeb-90bcaf8a7ab9",
   "metadata": {
    "tags": []
   },
   "outputs": [
    {
     "name": "stdout",
     "output_type": "stream",
     "text": [
      "[1, 5, 2, 6, 2, 1, 10, 99, 100]\n"
     ]
    }
   ],
   "source": [
    "# .remove(x)\n",
    "numbers.remove(3.5)\n",
    "print(numbers)"
   ]
  },
  {
   "cell_type": "code",
   "execution_count": 38,
   "id": "96cab8d2-4363-4435-af4f-fcc2c1dcac46",
   "metadata": {
    "tags": []
   },
   "outputs": [
    {
     "name": "stdout",
     "output_type": "stream",
     "text": [
      "[1, 5, 2, 6, 2, 1, 10, 99]\n",
      "[5, 2, 6, 2, 1, 10, 99]\n"
     ]
    },
    {
     "data": {
      "text/plain": [
       "99"
      ]
     },
     "execution_count": 38,
     "metadata": {},
     "output_type": "execute_result"
    }
   ],
   "source": [
    "# .pop([idx])\n",
    "numbers.pop()\n",
    "print(numbers)\n",
    "\n",
    "numbers.pop(0)\n",
    "print(numbers)\n",
    "\n",
    "numbers.pop()"
   ]
  },
  {
   "cell_type": "code",
   "execution_count": 39,
   "id": "849a5bae-02bb-4169-85c1-7461cc0b0e73",
   "metadata": {
    "tags": []
   },
   "outputs": [
    {
     "name": "stdout",
     "output_type": "stream",
     "text": [
      "10\n"
     ]
    }
   ],
   "source": [
    "num = numbers.pop()\n",
    "print(num)"
   ]
  },
  {
   "cell_type": "code",
   "execution_count": 43,
   "id": "28d64638-32da-40fd-af7d-88506169c885",
   "metadata": {
    "tags": []
   },
   "outputs": [
    {
     "name": "stdout",
     "output_type": "stream",
     "text": [
      "[1, 6, 2, 1, 3, 2, 7, 10]\n",
      "None\n",
      "[1, 1, 2, 2, 3, 6, 7, 10]\n",
      "[10, 7, 6, 3, 2, 2, 1, 1]\n"
     ]
    }
   ],
   "source": [
    "# .sort()\n",
    "numbers = [1, 6, 2, 1,3, 2, 7, 10]\n",
    "print(numbers)\n",
    "print(numbers.sort()) #메소드\n",
    "print(numbers)\n",
    "numbers.sort(reverse=True)\n",
    "print(numbers)"
   ]
  },
  {
   "cell_type": "code",
   "execution_count": 44,
   "id": "7db86837-3310-4401-ab6d-168ebea90f9e",
   "metadata": {
    "tags": []
   },
   "outputs": [
    {
     "name": "stdout",
     "output_type": "stream",
     "text": [
      "[1, 6, 2, 1, 3, 2, 7, 10]\n"
     ]
    }
   ],
   "source": [
    "numbers = [1, 6, 2, 1, 3, 2, 7, 10]\n",
    "sorted(numbers) #힘스\n",
    "print(numbers)"
   ]
  },
  {
   "cell_type": "code",
   "execution_count": 46,
   "id": "7852a748-87a6-44ce-8bb1-0c21367b8000",
   "metadata": {
    "tags": []
   },
   "outputs": [
    {
     "name": "stdout",
     "output_type": "stream",
     "text": [
      "[1, 6, 2, 1, 3, 2, 7, 10]\n",
      "[10, 7, 2, 3, 1, 2, 6, 1]\n",
      "[1, 6, 2, 1, 3, 2, 7, 10]\n"
     ]
    }
   ],
   "source": [
    "# .reverse()\n",
    "numbers = [1, 6, 2, 1, 3, 2, 7, 10]\n",
    "print(numbers)\n",
    "numbers.reverse()\n",
    "print(numbers)\n",
    "numbers = numbers[ : : -1]\n",
    "print(numbers)"
   ]
  },
  {
   "cell_type": "markdown",
   "id": "03b420d8-542b-48a0-9907-7a140e0a4415",
   "metadata": {},
   "source": [
    "# list copy"
   ]
  },
  {
   "cell_type": "code",
   "execution_count": 48,
   "id": "bf87c6bf-09a6-424f-92d6-ccab756ca110",
   "metadata": {
    "tags": []
   },
   "outputs": [],
   "source": [
    "origin_list = [1, 2, 3]\n",
    "copy_list = origin_list"
   ]
  },
  {
   "cell_type": "code",
   "execution_count": 49,
   "id": "7cfa8441-e8bd-403e-8326-8b93caf9e28d",
   "metadata": {
    "tags": []
   },
   "outputs": [
    {
     "name": "stdout",
     "output_type": "stream",
     "text": [
      "[1, 2, 3]\n",
      "[1, 2, 3]\n"
     ]
    }
   ],
   "source": [
    "print(origin_list)\n",
    "print(copy_list)"
   ]
  },
  {
   "cell_type": "code",
   "execution_count": 50,
   "id": "b4735f64-ad3d-4594-850d-15426e2c45fe",
   "metadata": {
    "tags": []
   },
   "outputs": [],
   "source": [
    "copy_list[0] = 100"
   ]
  },
  {
   "cell_type": "code",
   "execution_count": 51,
   "id": "76df35fa-9d63-44b1-bf4e-0ce61536472b",
   "metadata": {
    "tags": []
   },
   "outputs": [
    {
     "name": "stdout",
     "output_type": "stream",
     "text": [
      "[100, 2, 3]\n",
      "[100, 2, 3]\n"
     ]
    }
   ],
   "source": [
    "print(origin_list)\n",
    "print(copy_list)"
   ]
  },
  {
   "cell_type": "code",
   "execution_count": 52,
   "id": "39a71a63-bdae-45f2-b01f-830e67b018a4",
   "metadata": {
    "tags": []
   },
   "outputs": [
    {
     "name": "stdout",
     "output_type": "stream",
     "text": [
      "[1, 2, 3]\n",
      "[100, 2, 3]\n"
     ]
    }
   ],
   "source": [
    "a = [1, 2, 3]\n",
    "b = a[:]\n",
    "\n",
    "b[0] = 100\n",
    "\n",
    "print(a)\n",
    "print(b)"
   ]
  },
  {
   "cell_type": "code",
   "execution_count": 54,
   "id": "4a45e328-f0c7-43dc-9789-16df7e0a0692",
   "metadata": {
    "tags": []
   },
   "outputs": [
    {
     "name": "stdout",
     "output_type": "stream",
     "text": [
      "[1, 2, [99, 100]]\n",
      "[1, 2, [99, 1000]]\n"
     ]
    }
   ],
   "source": [
    "import copy\n",
    "a = [1, 2, [99, 100]]\n",
    "b = copy.deepcopy(a)\n",
    "\n",
    "b[2][1] = 1000\n",
    "\n",
    "print(a)\n",
    "print(b)"
   ]
  },
  {
   "cell_type": "markdown",
   "id": "4801f3c9-deb8-4503-a981-96ff24045a25",
   "metadata": {},
   "source": [
    "# list comprehension"
   ]
  },
  {
   "cell_type": "code",
   "execution_count": 55,
   "id": "0a5b4aae-dd5a-400f-bff4-b6b91533057d",
   "metadata": {
    "tags": []
   },
   "outputs": [
    {
     "name": "stdout",
     "output_type": "stream",
     "text": [
      "[1, 2, 3, 4, 5, 6, 7, 8, 9, 10]\n"
     ]
    }
   ],
   "source": [
    "numbers = list(range(1, 11))\n",
    "print(numbers)"
   ]
  },
  {
   "cell_type": "code",
   "execution_count": 56,
   "id": "52459c40-7020-40ef-881e-a165b3db9e13",
   "metadata": {
    "tags": []
   },
   "outputs": [
    {
     "name": "stdout",
     "output_type": "stream",
     "text": [
      "[1, 8, 27, 64, 125, 216, 343, 512, 729, 1000]\n"
     ]
    }
   ],
   "source": [
    "#[1, 8, 27, ... , 1000] =>  세제곱 만들기\n",
    "result = []\n",
    "\n",
    "for number in numbers:\n",
    "    result.append(number ** 3)\n",
    "    \n",
    "print(result)"
   ]
  },
  {
   "cell_type": "code",
   "execution_count": 57,
   "id": "9db3d078-5534-45a0-a52f-3d2c31b6e2ec",
   "metadata": {
    "tags": []
   },
   "outputs": [
    {
     "name": "stdout",
     "output_type": "stream",
     "text": [
      "[1, 8, 27, 64, 125, 216, 343, 512, 729, 1000]\n"
     ]
    }
   ],
   "source": [
    "result2 = [ number **3 for number in numbers ]\n",
    "print(result2)"
   ]
  },
  {
   "cell_type": "code",
   "execution_count": 58,
   "id": "333769dc-1f94-4e9c-be62-710e0e4e4b59",
   "metadata": {
    "tags": []
   },
   "outputs": [
    {
     "name": "stdout",
     "output_type": "stream",
     "text": [
      "[2, 4, 6, 8, 10]\n"
     ]
    }
   ],
   "source": [
    "#짝수만 고르기\n",
    "even_list = []\n",
    "for number in numbers:\n",
    "           if number % 2 == 0:\n",
    "             even_list.append(number)\n",
    "                \n",
    "print(even_list)"
   ]
  },
  {
   "cell_type": "code",
   "execution_count": 59,
   "id": "2b226911-3b0e-47f3-bafe-e5b46c4ed7cc",
   "metadata": {
    "tags": []
   },
   "outputs": [
    {
     "name": "stdout",
     "output_type": "stream",
     "text": [
      "[2, 4, 6, 8, 10]\n"
     ]
    }
   ],
   "source": [
    "#짝수만 고르기(list comprehension)\n",
    "even_list2 = [ number for number in numbers if number % 2 ==0]\n",
    "print(even_list2)"
   ]
  },
  {
   "cell_type": "code",
   "execution_count": 111,
   "id": "8ba732e9-e930-48a5-a1aa-0150774154cb",
   "metadata": {
    "tags": []
   },
   "outputs": [],
   "source": [
    "words = 'my name is hong'\n",
    "vowels = 'aeiou'\n",
    "\n",
    "# -> my nm s hng"
   ]
  },
  {
   "cell_type": "code",
   "execution_count": 113,
   "id": "1c191fd9-4f7b-4a9e-9db1-c8800f947882",
   "metadata": {
    "tags": []
   },
   "outputs": [
    {
     "name": "stdout",
     "output_type": "stream",
     "text": [
      "my nm s hng\n"
     ]
    }
   ],
   "source": [
    "#1. for문\n",
    "\n",
    "\n",
    "# for vowel in vowels:\n",
    "#     words = words.replace(vowel, '') #덮어씌우는거라 삭제라 보긴 어려움\n",
    "    \n",
    "# print(words)\n",
    "\n",
    "import re\n",
    "\n",
    "st = re.sub('[aeiou]','',words)\n",
    "print(st)\n",
    "\n",
    "# result = []\n",
    "# for chart in words:\n",
    "#     if char not in vowels:\n",
    "#         result.append(char)\n",
    "# print(result)\n",
    "# print(''.join(result))"
   ]
  },
  {
   "cell_type": "code",
   "execution_count": 114,
   "id": "6929e223-8704-4b2d-8bb3-d31ebcd46214",
   "metadata": {
    "tags": []
   },
   "outputs": [],
   "source": [
    "#2. list comprehension\n",
    "\n",
    "# result = [char for char in words if char not in vowels]\n",
    "# print(result)\n",
    "# print('', join(result))"
   ]
  },
  {
   "cell_type": "markdown",
   "id": "77b7ee7f-a258-4580-a78a-2f59c63ca417",
   "metadata": {},
   "source": [
    "# 딕셔너리 메소드"
   ]
  },
  {
   "cell_type": "code",
   "execution_count": 134,
   "id": "cb2769f3-37b8-4095-80e6-0212c7f6a3f9",
   "metadata": {
    "tags": []
   },
   "outputs": [],
   "source": [
    "info = {\n",
    "    'name' : 'ompang',\n",
    "    'location' : 'seoul',\n",
    "}"
   ]
  },
  {
   "cell_type": "code",
   "execution_count": 135,
   "id": "5946f55d-8435-47aa-9d7f-418922f8421f",
   "metadata": {
    "tags": []
   },
   "outputs": [],
   "source": [
    "# info['name'] = 'kim'\n",
    "# print(info)"
   ]
  },
  {
   "cell_type": "code",
   "execution_count": 136,
   "id": "cf0fd14c-358c-463c-9a99-8c751ff60b09",
   "metadata": {
    "tags": []
   },
   "outputs": [
    {
     "name": "stdout",
     "output_type": "stream",
     "text": [
      "{'name': 'ompang', 'location': 'seoul'}\n",
      "seoul\n",
      "{'name': 'ompang'}\n",
      "None\n"
     ]
    }
   ],
   "source": [
    "# .pop(key[, default])\n",
    "print(info)\n",
    "print(info.pop('location'))\n",
    "\n",
    "print(info)\n",
    "print(info.pop('location', None))"
   ]
  },
  {
   "cell_type": "code",
   "execution_count": 138,
   "id": "9fa15aa0-e4e0-44dd-928e-151b5d4b41a4",
   "metadata": {
    "tags": []
   },
   "outputs": [
    {
     "name": "stdout",
     "output_type": "stream",
     "text": [
      "{'name': 'park'}\n"
     ]
    }
   ],
   "source": [
    "# .update(key=value)\n",
    "info.update(name='park')\n",
    "print(info)"
   ]
  },
  {
   "cell_type": "code",
   "execution_count": 142,
   "id": "b6b3ad7d-e370-4af2-a448-2267dde431c3",
   "metadata": {
    "tags": []
   },
   "outputs": [
    {
     "name": "stdout",
     "output_type": "stream",
     "text": [
      "park\n",
      "None\n",
      "해당키가 없습니다.\n"
     ]
    }
   ],
   "source": [
    "# .get(key[, default])\n",
    "print(info.get('name'))\n",
    "print(info.get('phone')) # info['phone']은 에러가 발생, info.get('phone')은 None을 리턴\n",
    "print(info.get('phone', '해당키가 없습니다.'))"
   ]
  },
  {
   "cell_type": "markdown",
   "id": "141c6315-d62c-46a0-af5a-f21b9efded3f",
   "metadata": {},
   "source": [
    "# dict comprehension"
   ]
  },
  {
   "cell_type": "code",
   "execution_count": 147,
   "id": "55b901cd-1645-4a5f-9c57-86d91287fa5c",
   "metadata": {
    "tags": []
   },
   "outputs": [
    {
     "name": "stdout",
     "output_type": "stream",
     "text": [
      "{1: 1, 2: 8, 3: 27, 4: 64, 5: 125, 6: 216, 7: 343, 8: 512, 9: 729, 10: 1000}\n"
     ]
    }
   ],
   "source": [
    "#for\n",
    "# {1 :1, 2: 8, 3: 9, ...}\n",
    "result  = {}\n",
    "numbers = range(1, 11)\n",
    "for number in numbers:\n",
    "    result[number] = number ** 3\n",
    "\n",
    "print(result)"
   ]
  },
  {
   "cell_type": "code",
   "execution_count": 149,
   "id": "1541c808-a957-4fda-bb52-505a88c3fa2d",
   "metadata": {
    "tags": []
   },
   "outputs": [
    {
     "name": "stdout",
     "output_type": "stream",
     "text": [
      "{1: 1, 2: 8, 3: 27, 4: 64, 5: 125, 6: 216, 7: 343, 8: 512, 9: 729, 10: 1000}\n"
     ]
    }
   ],
   "source": [
    "#comp\n",
    "result = {number: number **3 for number in range(1, 11)}\n",
    "print(result)"
   ]
  },
  {
   "cell_type": "code",
   "execution_count": 150,
   "id": "b6d17c3e-5f87-4c36-b2fb-37a672b70d1d",
   "metadata": {
    "tags": []
   },
   "outputs": [],
   "source": [
    "#\n",
    "dust = {\n",
    "    '서울': 100,\n",
    "    '대구': 30,\n",
    "    '부산': 80,\n",
    "    '광주': 50,\n",
    "    '제주': 20,\n",
    "}\n",
    "# result = {\n",
    "#     '서울': 100,\n",
    "#     '부산': 80,\n",
    "#     '광주': 50,\n",
    "# }"
   ]
  },
  {
   "cell_type": "code",
   "execution_count": 152,
   "id": "91f3cf7d-391c-4e9e-addc-a0a72338b243",
   "metadata": {
    "tags": []
   },
   "outputs": [
    {
     "name": "stdout",
     "output_type": "stream",
     "text": [
      "{'서울': 100, '부산': 80, '광주': 50}\n"
     ]
    }
   ],
   "source": [
    "#for\n",
    "\n",
    "result  = {}\n",
    "\n",
    "for area, num in dust.items():\n",
    "    if num >= 50:\n",
    "        result[area] = num\n",
    "\n",
    "print(result)"
   ]
  },
  {
   "cell_type": "code",
   "execution_count": 153,
   "id": "42481028-7b54-49ed-a614-926d702cb527",
   "metadata": {
    "tags": []
   },
   "outputs": [
    {
     "name": "stdout",
     "output_type": "stream",
     "text": [
      "{'서울': 100, '부산': 80, '광주': 50}\n"
     ]
    }
   ],
   "source": [
    "#comp\n",
    "result = { area: num for area, num in dust.items() if num >= 50}\n",
    "print(result)"
   ]
  },
  {
   "cell_type": "code",
   "execution_count": 154,
   "id": "c00cd236-47b7-4d3a-8bcb-27795637bea8",
   "metadata": {
    "tags": []
   },
   "outputs": [
    {
     "name": "stdout",
     "output_type": "stream",
     "text": [
      "{'서울': '나쁨', '부산': '나쁨', '광주': '나쁨'}\n"
     ]
    }
   ],
   "source": [
    "result2 = { area: '나쁨' for area, num in dust.items() if num >= 50}\n",
    "print(result2)"
   ]
  },
  {
   "cell_type": "markdown",
   "id": "6859682d-4159-43a4-89d6-f50d6eee538c",
   "metadata": {},
   "source": [
    "# 세트 메소드"
   ]
  },
  {
   "cell_type": "code",
   "execution_count": 155,
   "id": "f0301691-547b-4821-ad71-91f60984033e",
   "metadata": {
    "tags": []
   },
   "outputs": [],
   "source": [
    "fruits = {'apple', 'anna', 'melon'}"
   ]
  },
  {
   "cell_type": "code",
   "execution_count": 157,
   "id": "f57f65ba-3a7b-4002-8429-63574c35ba88",
   "metadata": {
    "tags": []
   },
   "outputs": [
    {
     "name": "stdout",
     "output_type": "stream",
     "text": [
      "{'apple', 'watermelon', 'anna', 'melon'}\n",
      "{'apple', 'watermelon', 'anna', 'melon'}\n"
     ]
    }
   ],
   "source": [
    "# .add(x)\n",
    "fruits.add('watermelon')\n",
    "print(fruits)\n",
    "fruits.add('watermelon')\n",
    "print(fruits)"
   ]
  },
  {
   "cell_type": "code",
   "execution_count": 159,
   "id": "4b8335e3-ddcf-42af-9664-dc3e14ef36fe",
   "metadata": {
    "tags": []
   },
   "outputs": [
    {
     "name": "stdout",
     "output_type": "stream",
     "text": [
      "{'watermelon', 'a', 'anna', 'g', 'p', 'apple', 'r', 'melon', 'e'}\n",
      "{'watermelon', 'a', 'anna', 'orange', 'g', 'p', 'apple', 'r', 'melon', 'grape', 'e'}\n"
     ]
    }
   ],
   "source": [
    "# .update({set})\n",
    "fruits. update('grape')  #시퀀스롤 조각내서 세트에 각 요소로 추가\n",
    "print(fruits)\n",
    "\n",
    "fruits. update({'grape', 'orange'})\n",
    "print(fruits)"
   ]
  },
  {
   "cell_type": "code",
   "execution_count": 160,
   "id": "eaa5c0de-b6bb-4965-8499-7b3b3f346008",
   "metadata": {
    "tags": []
   },
   "outputs": [
    {
     "name": "stdout",
     "output_type": "stream",
     "text": [
      "{'watermelon', 'a', 'anna', 'g', 'p', 'apple', 'r', 'melon', 'grape', 'e'}\n"
     ]
    }
   ],
   "source": [
    "# .remove(x)\n",
    "fruits.remove('orange')\n",
    "print(fruits)"
   ]
  },
  {
   "cell_type": "code",
   "execution_count": 161,
   "id": "96b44389-5119-4194-8caf-e4c9f9495a68",
   "metadata": {
    "tags": []
   },
   "outputs": [
    {
     "name": "stdout",
     "output_type": "stream",
     "text": [
      "{'a', 'anna', 'g', 'p', 'apple', 'r', 'melon', 'grape', 'e'}\n"
     ]
    }
   ],
   "source": [
    "# .pop()\n",
    "fruits.pop()\n",
    "print(fruits)"
   ]
  },
  {
   "cell_type": "markdown",
   "id": "50d49b01-829a-457b-a61e-ff1bd64f0918",
   "metadata": {},
   "source": [
    "# map, filter, zip"
   ]
  },
  {
   "cell_type": "code",
   "execution_count": 163,
   "id": "80075ecb-64a6-4023-af5d-5d70cd57d8e1",
   "metadata": {
    "tags": []
   },
   "outputs": [
    {
     "name": "stdout",
     "output_type": "stream",
     "text": [
      "<map object at 0x00000224FA2352D0>\n",
      "['1', '2', '3']\n"
     ]
    }
   ],
   "source": [
    "a = [1, 2, 3]\n",
    "number_str = map(str, a)\n",
    "print(number_str)\n",
    "print(list(number_str))"
   ]
  },
  {
   "cell_type": "code",
   "execution_count": 164,
   "id": "62b026bd-9ec4-4856-bc1a-449e5b097244",
   "metadata": {
    "tags": []
   },
   "outputs": [
    {
     "name": "stdout",
     "output_type": "stream",
     "text": [
      "125\n",
      "1000\n"
     ]
    }
   ],
   "source": [
    "def cube(x):\n",
    "    return x ** 3\n",
    "\n",
    "print(cube(5))\n",
    "print(cube(10))"
   ]
  },
  {
   "cell_type": "code",
   "execution_count": 165,
   "id": "16187ed0-3788-4c81-ad5d-7a9c6a4300cb",
   "metadata": {
    "tags": []
   },
   "outputs": [
    {
     "name": "stdout",
     "output_type": "stream",
     "text": [
      "[1, 8, 27]\n"
     ]
    }
   ],
   "source": [
    "result2 = map(cube, a)\n",
    "print(list(result2))"
   ]
  },
  {
   "cell_type": "code",
   "execution_count": 166,
   "id": "f8bd5ca6-9429-4416-9d92-cf56fdf0a269",
   "metadata": {
    "tags": []
   },
   "outputs": [
    {
     "name": "stdout",
     "output_type": "stream",
     "text": [
      "[1, 3, 5, 7, 9]\n"
     ]
    }
   ],
   "source": [
    "a = '1 3 5 7 9'\n",
    "#numbers = [1, 3, 5, 7, 9]\n",
    "numbers = list(map(int, a.split()))\n",
    "print(numbers)"
   ]
  },
  {
   "cell_type": "markdown",
   "id": "8139b8e0-b786-4947-b4ef-86ce5cfc97db",
   "metadata": {},
   "source": [
    "- filter(function, iterable)\n",
    "    - filter에 들어가는 function은 T/F를 반환해야 합니다."
   ]
  },
  {
   "cell_type": "code",
   "execution_count": 167,
   "id": "0cfb0563-4eb7-4555-8912-b4311128ec6c",
   "metadata": {
    "tags": []
   },
   "outputs": [
    {
     "name": "stdout",
     "output_type": "stream",
     "text": [
      "True\n",
      "False\n"
     ]
    }
   ],
   "source": [
    "def is_odd(x):\n",
    "    if x % 2 ==1:\n",
    "        return True\n",
    "    else:\n",
    "        return False\n",
    "    \n",
    "print(is_odd(5))\n",
    "print(is_odd(10))"
   ]
  },
  {
   "cell_type": "code",
   "execution_count": 168,
   "id": "c0a0402c-0206-4b81-bda9-ef3b4f0831f8",
   "metadata": {
    "tags": []
   },
   "outputs": [],
   "source": [
    "numbers = [1, 2, 3, 4, 5]"
   ]
  },
  {
   "cell_type": "code",
   "execution_count": 169,
   "id": "27fd97c0-a41c-4b6d-a402-db17bf7f6199",
   "metadata": {
    "tags": []
   },
   "outputs": [
    {
     "name": "stdout",
     "output_type": "stream",
     "text": [
      "[1, 3, 5]\n"
     ]
    }
   ],
   "source": [
    "#for\n",
    "result = []\n",
    "for number in numbers:\n",
    "    if is_odd(number):\n",
    "        result.append(number)\n",
    "        \n",
    "print(result)"
   ]
  },
  {
   "cell_type": "code",
   "execution_count": 170,
   "id": "ac032e65-861b-48a1-81d2-1bed220779ae",
   "metadata": {
    "tags": []
   },
   "outputs": [
    {
     "name": "stdout",
     "output_type": "stream",
     "text": [
      "[1, 3, 5]\n"
     ]
    }
   ],
   "source": [
    "result2 = filter(is_odd, numbers)\n",
    "print(list(result2))"
   ]
  },
  {
   "cell_type": "markdown",
   "id": "0bc6084f-0bdc-47da-a013-012f65c8adfc",
   "metadata": {},
   "source": [
    "- zip\n"
   ]
  },
  {
   "cell_type": "code",
   "execution_count": 173,
   "id": "b1fb328a-fcbf-4de7-a7d7-955511a3e47f",
   "metadata": {
    "tags": []
   },
   "outputs": [],
   "source": [
    "a = [1, 2, 3]\n",
    "b = [100, 200, 300, 400]"
   ]
  },
  {
   "cell_type": "code",
   "execution_count": 174,
   "id": "537900c2-14cc-4d66-ab46-8d7552633710",
   "metadata": {
    "tags": []
   },
   "outputs": [
    {
     "name": "stdout",
     "output_type": "stream",
     "text": [
      "<zip object at 0x00000224F9E7E680>\n",
      "[(1, 100), (2, 200), (3, 300)]\n"
     ]
    }
   ],
   "source": [
    "result = zip(a, b)\n",
    "print(result)\n",
    "print(list(result))"
   ]
  },
  {
   "cell_type": "code",
   "execution_count": null,
   "id": "9ea0556d-25c6-419e-bb44-fd9461461b11",
   "metadata": {},
   "outputs": [],
   "source": []
  }
 ],
 "metadata": {
  "kernelspec": {
   "display_name": "Python 3 (ipykernel)",
   "language": "python",
   "name": "python3"
  },
  "language_info": {
   "codemirror_mode": {
    "name": "ipython",
    "version": 3
   },
   "file_extension": ".py",
   "mimetype": "text/x-python",
   "name": "python",
   "nbconvert_exporter": "python",
   "pygments_lexer": "ipython3",
   "version": "3.11.4"
  }
 },
 "nbformat": 4,
 "nbformat_minor": 5
}
