{
 "cells": [
  {
   "cell_type": "markdown",
   "id": "10ab5120-b4e3-482a-942f-3ca992f094bd",
   "metadata": {},
   "source": [
    "# 제어문"
   ]
  },
  {
   "cell_type": "markdown",
   "id": "12de8d44-5131-425b-9611-1425636ff0ef",
   "metadata": {},
   "source": [
    "## 조건문(if문)\n",
    "```python\n",
    "if <조건식>:\n",
    "    if의 조건식이 참인 경우 실행하는 코드\n",
    "else:\n",
    "    if의 조건식이 거짓인 경우 실행하는 코드\n",
    "```\n",
    "\n",
    "\n",
    "1. `if`문은 반드시 참/거짓을 판단 할 수 있는 `조건식`과 함께 사용한다.\n",
    "2. `조건식`이 참인경우 : 이후의 문장을 실행한다.\n",
    "3. `조건식`이 거짓인 경우 `else` : 이후의 문장을 실행한다."
   ]
  },
  {
   "cell_type": "code",
   "execution_count": 2,
   "id": "5085059d-6f6b-46c1-9341-2f9a5492f4ba",
   "metadata": {
    "tags": []
   },
   "outputs": [
    {
     "name": "stdin",
     "output_type": "stream",
     "text": [
      " 12/25\n"
     ]
    },
    {
     "name": "stdout",
     "output_type": "stream",
     "text": [
      "크리스마스입니다.\n"
     ]
    }
   ],
   "source": [
    "my_string = input()\n",
    "\n",
    "if my_string == '12/25':\n",
    "    print('크리스마스입니다.')\n",
    "else:\n",
    "    print('크리스마스가 아닙니다.')"
   ]
  },
  {
   "cell_type": "code",
   "execution_count": 3,
   "id": "6a7f23c3-fb59-4181-9a95-4f146b9f3fbd",
   "metadata": {
    "tags": []
   },
   "outputs": [
    {
     "name": "stdin",
     "output_type": "stream",
     "text": [
      "숫자를 입력해주세요 :  1\n"
     ]
    },
    {
     "name": "stdout",
     "output_type": "stream",
     "text": [
      "홀수입니다.\n"
     ]
    }
   ],
   "source": [
    "num = input('숫자를 입력해주세요 : ')\n",
    "num = int(num)\n",
    "\n",
    "if num % 2 == 1:\n",
    "    print('홀수입니다.')\n",
    "else:\n",
    "    print('짝수입니다.')"
   ]
  },
  {
   "cell_type": "code",
   "execution_count": 4,
   "id": "0620652e-3439-4535-969e-2c374f97d42c",
   "metadata": {
    "tags": []
   },
   "outputs": [
    {
     "name": "stdin",
     "output_type": "stream",
     "text": [
      "숫자를 입력하세요 :  13\n"
     ]
    },
    {
     "name": "stdout",
     "output_type": "stream",
     "text": [
      "홀수입니다.\n"
     ]
    }
   ],
   "source": [
    "#num을 2로 나눈 나머지는 0, 1 두가지 경우가 잇다.\n",
    "#if 조건식에 0, 1은 자동형변환이 일어나 False, True로 변환된다.\n",
    "num = input('숫자를 입력하세요 : ')\n",
    "num = int(num)\n",
    "\n",
    "if num % 2:\n",
    "    print('홀수입니다.')\n",
    "else:\n",
    "    print('짝수입니다.')"
   ]
  },
  {
   "cell_type": "markdown",
   "id": "fb73a331-7c09-40c8-b6ce-01d442e20d5e",
   "metadata": {},
   "source": [
    "## elif\n",
    "\n",
    "```python\n",
    "if <조건식>:\n",
    "    if 조건이 참인 경우 실행\n",
    "elif <조건식>:\n",
    "    elif 조건이 참인 경우 실행\n",
    "...\n",
    "else:\n",
    "    위의 조건식에 하나도 부합하지 않는 경우 실행\n",
    "```"
   ]
  },
  {
   "cell_type": "code",
   "execution_count": 1,
   "id": "8d4132da-5278-4ae8-957d-b5617a7978cc",
   "metadata": {
    "tags": []
   },
   "outputs": [
    {
     "name": "stdin",
     "output_type": "stream",
     "text": [
      " 75\n"
     ]
    },
    {
     "name": "stdout",
     "output_type": "stream",
     "text": [
      "C\n"
     ]
    }
   ],
   "source": [
    "score = int(input())\n",
    "\n",
    "# 90점이상 A\n",
    "# 80점이상 B\n",
    "# 70점이상 C\n",
    "# 나머지 F\n",
    "\n",
    "if score > 90:\n",
    "    print('A')\n",
    "    if score >= 95:\n",
    "        print('good')\n",
    "elif 80 <= score:\n",
    "    print('B')\n",
    "elif 70 <= score:\n",
    "    print('C')\n",
    "else:\n",
    "    print('D')"
   ]
  },
  {
   "cell_type": "markdown",
   "id": "5ba8c5cd-af28-421b-a38a-e939a51d4396",
   "metadata": {},
   "source": [
    "# 조건표현식\n",
    "true_value if <조건식> else false_value"
   ]
  },
  {
   "cell_type": "code",
   "execution_count": 7,
   "id": "4af2618d-8033-481e-ad6f-1083d474779b",
   "metadata": {
    "tags": []
   },
   "outputs": [
    {
     "name": "stdout",
     "output_type": "stream",
     "text": [
      "True\n"
     ]
    },
    {
     "data": {
      "text/plain": [
       "'\\nif 1 < 0:\\n    print(\"True\")\\nelse:\\n    print(\\'False\\')\\n'"
      ]
     },
     "execution_count": 7,
     "metadata": {},
     "output_type": "execute_result"
    }
   ],
   "source": [
    "print('True') if 1 < 2 else print('False')\n",
    "\n",
    "'''\n",
    "if 1 < 0:\n",
    "    print('True')\n",
    "else:\n",
    "print('False')\n",
    "'''"
   ]
  },
  {
   "cell_type": "code",
   "execution_count": 6,
   "id": "cc58fa69-c001-4e25-9fb9-520c5f15604c",
   "metadata": {
    "tags": []
   },
   "outputs": [
    {
     "name": "stdout",
     "output_type": "stream",
     "text": [
      "0\n"
     ]
    },
    {
     "data": {
      "text/plain": [
       "'\\nif num >= 0:\\n    value = num\\nelse:\\n    value = 0\\n\\nprint(value)\\n'"
      ]
     },
     "execution_count": 6,
     "metadata": {},
     "output_type": "execute_result"
    }
   ],
   "source": [
    "num = -5\n",
    "\n",
    "value = num if num >= 0 else 0\n",
    "print(value)\n",
    "\n",
    "'''\n",
    "if num >= 0:\n",
    "    value = num\n",
    "else:\n",
    "    value = 0\n",
    "\n",
    "print(value)\n",
    "'''"
   ]
  },
  {
   "cell_type": "code",
   "execution_count": 11,
   "id": "768f791f-e527-455a-9cd0-4bcef0906abd",
   "metadata": {
    "tags": []
   },
   "outputs": [
    {
     "name": "stdout",
     "output_type": "stream",
     "text": [
      "홀수\n"
     ]
    },
    {
     "data": {
      "text/plain": [
       "\"\\nif num % 2 == 1:\\n    result = '홀수'\\nelse:\\n    result = '짝수'\\n\""
      ]
     },
     "execution_count": 11,
     "metadata": {},
     "output_type": "execute_result"
    }
   ],
   "source": [
    "num = 5\n",
    "\n",
    "result = '홀수' if num % 2 == 1 else '짝수'\n",
    "print(result)\n",
    "\n",
    "'''\n",
    "if num % 2 == 1:\n",
    "    result = '홀수'\n",
    "else:\n",
    "    result = '짝수'\n",
    "'''"
   ]
  },
  {
   "cell_type": "markdown",
   "id": "a77548ab-ad56-4556-be68-eb288115c7c4",
   "metadata": {},
   "source": [
    "## 반복문\n",
    "\n",
    "### while 문\n",
    "```python\n",
    "while <조건식>:\n",
    "    실행할 코드\n",
    "```"
   ]
  },
  {
   "cell_type": "code",
   "execution_count": 12,
   "id": "1c1a3c76-837b-42e0-b497-2b278d03614b",
   "metadata": {
    "tags": []
   },
   "outputs": [
    {
     "name": "stdout",
     "output_type": "stream",
     "text": [
      "0\n",
      "1\n",
      "2\n",
      "3\n",
      "4\n"
     ]
    }
   ],
   "source": [
    "a = 0\n",
    "\n",
    "while a < 5:\n",
    "    print(a)\n",
    "    a += 1"
   ]
  },
  {
   "cell_type": "code",
   "execution_count": 13,
   "id": "ff22771c-133a-4c98-b950-e13919d371d4",
   "metadata": {
    "tags": []
   },
   "outputs": [
    {
     "name": "stdin",
     "output_type": "stream",
     "text": [
      "안녕이라고 해줘 :  ㅇ\n",
      "안녕이라고 해줘 :  ㄴㄹ\n",
      "안녕이라고 해줘 :  ㅁㄷㅀ\n",
      "안녕이라고 해줘 :  ㅁ\n",
      "안녕이라고 해줘 :  ㄴ\n",
      "안녕이라고 해줘 :  ㄹㄷ\n",
      "안녕이라고 해줘 :  ㅇㅇ\n",
      "안녕이라고 해줘 :  ㅈ\n",
      "안녕이라고 해줘 :  ㄷ\n",
      "안녕이라고 해줘 :  ㄴㅁ\n",
      "안녕이라고 해줘 :  ㄹ\n",
      "안녕이라고 해줘 :  ㄷ\n",
      "안녕이라고 해줘 :  ㅈㄹ\n",
      "안녕이라고 해줘 :  ㅂ\n",
      "안녕이라고 해줘 :  ㅈ\n",
      "안녕이라고 해줘 :  \n",
      "안녕이라고 해줘 :  ㄹㄹ\n",
      "안녕이라고 해줘 :  ㄴ\n",
      "안녕이라고 해줘 :  ㄷ\n",
      "안녕이라고 해줘 :  안녕\n"
     ]
    }
   ],
   "source": [
    "greeting = ''\n",
    "\n",
    "while greeting != '안녕':\n",
    "    greeting = input('안녕이라고 해줘 : ')"
   ]
  },
  {
   "cell_type": "markdown",
   "id": "8b79662b-6f5d-4bcf-9cdd-831a1b4731aa",
   "metadata": {},
   "source": [
    "### for\n",
    "정해진 범위 내의 반복\n",
    "\n",
    "```python\n",
    "for ariable in sequence:\n",
    "    실행할 코드\n",
    "```"
   ]
  },
  {
   "cell_type": "code",
   "execution_count": 14,
   "id": "29989af8-29f0-4f3a-876b-bf49094f80b0",
   "metadata": {
    "tags": []
   },
   "outputs": [
    {
     "name": "stdout",
     "output_type": "stream",
     "text": [
      "1\n",
      "2\n",
      "3\n",
      "4\n",
      "5\n"
     ]
    }
   ],
   "source": [
    "numbers = [1, 2, 3, 4, 5]\n",
    "\n",
    "for number in numbers:\n",
    "    print(number)"
   ]
  },
  {
   "cell_type": "code",
   "execution_count": 15,
   "id": "999c1f2f-8c5d-4715-876c-aa8b49db68b9",
   "metadata": {
    "tags": []
   },
   "outputs": [
    {
     "name": "stdin",
     "output_type": "stream",
     "text": [
      "단어를 입력해주세요 :  apple\n"
     ]
    },
    {
     "name": "stdout",
     "output_type": "stream",
     "text": [
      "a\n",
      "p\n",
      "p\n",
      "l\n",
      "e\n"
     ]
    }
   ],
   "source": [
    "word = input('단어를 입력해주세요 : ')\n",
    "\n",
    "for char in word:\n",
    "    print(char)"
   ]
  },
  {
   "cell_type": "code",
   "execution_count": 16,
   "id": "d4cdb5a9-9a27-4d29-96ea-d4ec7869cb89",
   "metadata": {
    "tags": []
   },
   "outputs": [
    {
     "name": "stdout",
     "output_type": "stream",
     "text": [
      "0\n",
      "1\n",
      "2\n",
      "3\n",
      "4\n"
     ]
    }
   ],
   "source": [
    "for i in range(5):\n",
    "    print(i)"
   ]
  },
  {
   "cell_type": "code",
   "execution_count": 17,
   "id": "3495bc2c-9eb2-4e74-9633-722c011a8c5f",
   "metadata": {
    "tags": []
   },
   "outputs": [
    {
     "name": "stdout",
     "output_type": "stream",
     "text": [
      "1\n",
      "2\n",
      "3\n",
      "4\n",
      "5\n"
     ]
    }
   ],
   "source": [
    "for i in (1, 2, 3, 4, 5):\n",
    "    print(i)"
   ]
  },
  {
   "cell_type": "code",
   "execution_count": 25,
   "id": "b019cd46-8f24-427d-9f76-6a281e1121ff",
   "metadata": {
    "tags": []
   },
   "outputs": [
    {
     "name": "stdout",
     "output_type": "stream",
     "text": [
      "1\n",
      "3\n",
      "5\n",
      "7\n",
      "9\n",
      "11\n",
      "13\n",
      "15\n",
      "17\n",
      "19\n",
      "21\n",
      "23\n",
      "25\n",
      "27\n",
      "29\n",
      "=====\n",
      "[1, 3, 5, 7, 9, 11, 13, 15, 17, 19, 21, 23, 25, 27, 29]\n"
     ]
    }
   ],
   "source": [
    "lis = []\n",
    "numbers = range(31)\n",
    "\n",
    "for number in numbers:\n",
    "    if number % 2 == 1:\n",
    "        lis.append(number)\n",
    "        print(number)\n",
    "        \n",
    "print(\"=====\")        \n",
    "print(lis)   "
   ]
  },
  {
   "cell_type": "code",
   "execution_count": 28,
   "id": "d789a784-b3ec-4742-a8d6-673effb01e5f",
   "metadata": {
    "tags": []
   },
   "outputs": [
    {
     "name": "stdout",
     "output_type": "stream",
     "text": [
      "라면\n",
      "김밥\n",
      "떡볶이\n"
     ]
    }
   ],
   "source": [
    "menus = ['라면', '김밥', '떡볶이']\n",
    "\n",
    "for menu in menus:\n",
    "    print(menu)"
   ]
  },
  {
   "cell_type": "code",
   "execution_count": 29,
   "id": "7a232578-18a8-4741-9320-dfd21473b536",
   "metadata": {
    "tags": []
   },
   "outputs": [
    {
     "name": "stdout",
     "output_type": "stream",
     "text": [
      "라면\n",
      "김밥\n",
      "떡볶이\n"
     ]
    }
   ],
   "source": [
    "for i in range(3):\n",
    "    print(menus[i])"
   ]
  },
  {
   "attachments": {
    "c5dacdd6-f097-42fb-8a4e-4e7aeb47a108.png": {
     "image/png": "[encoded data removed]"
    }
   },
   "cell_type": "markdown",
   "id": "663156ba-3ffb-461b-a18f-cf4ad442e39c",
   "metadata": {},
   "source": [
    "![image.png](attachment:c5dacdd6-f097-42fb-8a4e-4e7aeb47a108.png)\n",
    "\n",
    "위에는 웹 개발, 아래는 코딩테스트에서 많이 사용"
   ]
  },
  {
   "cell_type": "code",
   "execution_count": 30,
   "id": "00f4d7aa-db7b-4ab4-85b1-8142ea70b5fa",
   "metadata": {
    "tags": []
   },
   "outputs": [
    {
     "name": "stdout",
     "output_type": "stream",
     "text": [
      "라면\n",
      "김밥\n",
      "떡볶이\n"
     ]
    }
   ],
   "source": [
    "for i in range(len(menus)):\n",
    "    print(menus[i])"
   ]
  },
  {
   "cell_type": "code",
   "execution_count": 32,
   "id": "f5291e24-e4eb-461d-a28e-d7cc161e26da",
   "metadata": {
    "tags": []
   },
   "outputs": [
    {
     "name": "stdout",
     "output_type": "stream",
     "text": [
      "(0, '라면')\n",
      "(1, '김밥')\n",
      "(2, '떡볶이')\n"
     ]
    }
   ],
   "source": [
    "for item in enumerate(menus):\n",
    "    print(item)"
   ]
  },
  {
   "cell_type": "code",
   "execution_count": 33,
   "id": "4fe92ef7-932b-47fb-9681-225cb43a5c4c",
   "metadata": {
    "tags": []
   },
   "outputs": [
    {
     "name": "stdout",
     "output_type": "stream",
     "text": [
      "0 라면\n",
      "1 김밥\n",
      "2 떡볶이\n"
     ]
    }
   ],
   "source": [
    "for index, menu in enumerate(menus):\n",
    "    print(index, menu)"
   ]
  },
  {
   "cell_type": "markdown",
   "id": "359508be-58bd-4d3f-921f-82209a335f04",
   "metadata": {},
   "source": [
    "#### dictionary 반복\n",
    "1. for key in dict:\n",
    "2. for key in dict.keys():\n",
    "3. for value in dict.values():\n",
    "4. for key, value in dict.items():"
   ]
  },
  {
   "cell_type": "code",
   "execution_count": 36,
   "id": "fa59f3da-622c-4e21-a708-6a5ef96ec3cd",
   "metadata": {
    "tags": []
   },
   "outputs": [],
   "source": [
    "info = {\n",
    "    'name': 'yj',\n",
    "    'location': 'seoul',\n",
    "    'phone': '010-1234-1234'\n",
    "}"
   ]
  },
  {
   "cell_type": "code",
   "execution_count": 38,
   "id": "802d77d7-b4ba-4e9b-85b2-93b57ff7e88d",
   "metadata": {
    "tags": []
   },
   "outputs": [
    {
     "name": "stdout",
     "output_type": "stream",
     "text": [
      "name\n",
      "yj\n",
      "location\n",
      "seoul\n",
      "phone\n",
      "010-1234-1234\n"
     ]
    }
   ],
   "source": [
    "for key in info:\n",
    "    print(key)\n",
    "    print(info[key])"
   ]
  },
  {
   "cell_type": "code",
   "execution_count": 39,
   "id": "a6b3e678-3afb-43d7-9817-6ad01204c6ba",
   "metadata": {
    "tags": []
   },
   "outputs": [],
   "source": [
    "blood_type = {\n",
    "    'A': 5,\n",
    "    'B': 4,\n",
    "    'O': 2,\n",
    "    'AB': 3\n",
    "}"
   ]
  },
  {
   "cell_type": "code",
   "execution_count": 42,
   "id": "820f1a48-f4d8-4cf3-9082-3449980574c9",
   "metadata": {
    "tags": []
   },
   "outputs": [
    {
     "name": "stdout",
     "output_type": "stream",
     "text": [
      "혈액형 목록은 다음과 같습니다.\n",
      "A\n",
      "B\n",
      "O\n",
      "AB\n"
     ]
    }
   ],
   "source": [
    "print('혈액형 목록은 다음과 같습니다.')\n",
    "for key in blood_type:\n",
    "    print(key)"
   ]
  },
  {
   "cell_type": "code",
   "execution_count": 41,
   "id": "b6b35560-89f1-4ed8-b5e4-723bb120666e",
   "metadata": {
    "tags": []
   },
   "outputs": [
    {
     "name": "stdout",
     "output_type": "stream",
     "text": [
      "혈액형 목록은 다음과 같습니다.\n",
      "A\n",
      "B\n",
      "O\n",
      "AB\n"
     ]
    }
   ],
   "source": [
    "print('혈액형 목록은 다음과 같습니다.')\n",
    "for key in blood_type.keys():\n",
    "    print(key)"
   ]
  },
  {
   "cell_type": "code",
   "execution_count": 44,
   "id": "5a59aa53-cae2-429d-b397-cf67551e4c2c",
   "metadata": {
    "tags": []
   },
   "outputs": [
    {
     "name": "stdout",
     "output_type": "stream",
     "text": [
      "총 인원은 14명입니다.\n"
     ]
    }
   ],
   "source": [
    "result =0\n",
    "\n",
    "for value in blood_type.values():\n",
    "    result +=value\n",
    "    \n",
    "print(f'총 인원은 {result}명입니다.')"
   ]
  },
  {
   "cell_type": "code",
   "execution_count": 45,
   "id": "82200d65-abbf-4020-811e-e67e875c9ef7",
   "metadata": {
    "tags": []
   },
   "outputs": [
    {
     "name": "stdout",
     "output_type": "stream",
     "text": [
      "A형은 5명입니다.\n",
      "B형은 4명입니다.\n",
      "O형은 2명입니다.\n",
      "AB형은 3명입니다.\n"
     ]
    }
   ],
   "source": [
    "for key, value in blood_type.items():\n",
    "    print(f'{key}형은 {value}명입니다.')"
   ]
  },
  {
   "cell_type": "markdown",
   "id": "a037795d-e234-4af7-98a6-da23c4148d15",
   "metadata": {},
   "source": [
    "#### break\n",
    "반복문을 종료시키는 키워드"
   ]
  },
  {
   "cell_type": "code",
   "execution_count": 46,
   "id": "d9c95c35-cae8-48e3-96cc-39e6db6e8532",
   "metadata": {
    "tags": []
   },
   "outputs": [
    {
     "name": "stdout",
     "output_type": "stream",
     "text": [
      "10 넘었어!!\n"
     ]
    }
   ],
   "source": [
    "for i in range(100):\n",
    "    if i > 10:\n",
    "        print('10 넘었어!!')\n",
    "        break"
   ]
  },
  {
   "cell_type": "code",
   "execution_count": 48,
   "id": "225ff3c3-4dba-4f4f-9e2d-220d4d81972c",
   "metadata": {
    "tags": []
   },
   "outputs": [
    {
     "name": "stdout",
     "output_type": "stream",
     "text": [
      "보리 보리 보리 보리 쌀 잡았다!\n"
     ]
    }
   ],
   "source": [
    "rice = ['보리','보리','보리','보리','쌀','보리','보리','보리']\n",
    "\n",
    "for r in rice:\n",
    "    print(r, end = \" \")\n",
    "    if r == '쌀':\n",
    "        print('잡았다!')\n",
    "        break"
   ]
  },
  {
   "cell_type": "markdown",
   "id": "2059a583-8f7f-4032-9092-517673f8abe7",
   "metadata": {},
   "source": [
    "#### continue\n",
    "continue 이후의 코드를 실행하지 않고 다음 반복을 실행"
   ]
  },
  {
   "cell_type": "code",
   "execution_count": null,
   "id": "b22d1e92-e9d7-45cc-b444-6cac3174cd94",
   "metadata": {},
   "outputs": [],
   "source": [
    "for i in range(10):\n",
    "    if i % 2:\n",
    "        \n",
    "        \n",
    "        "
   ]
  },
  {
   "cell_type": "code",
   "execution_count": 49,
   "id": "582d65c7-9957-47b8-9be9-e8480e6f41a2",
   "metadata": {
    "tags": []
   },
   "outputs": [
    {
     "name": "stdout",
     "output_type": "stream",
     "text": [
      "23살은 성인입니다.\n",
      "30살은 성인입니다.\n",
      "29살은 성인입니다.\n"
     ]
    }
   ],
   "source": [
    "age = [10, 23, 8, 30, 29, 15]\n",
    "\n",
    "for a in age:\n",
    "    if a < 20:\n",
    "        continue\n",
    "    print(f'{a}살은 성인입니다.')"
   ]
  },
  {
   "cell_type": "markdown",
   "id": "f4b6e330-d93f-40e6-b198-b6569c7996a0",
   "metadata": {},
   "source": [
    "#### else\n",
    "else문은 끝까지 반복이 진행이 된 후 실행합니다.(break를 만나지 않은 경우)"
   ]
  },
  {
   "cell_type": "code",
   "execution_count": 50,
   "id": "4f60f576-df43-46ca-8a8c-61d54abd5229",
   "metadata": {
    "tags": []
   },
   "outputs": [
    {
     "name": "stdout",
     "output_type": "stream",
     "text": [
      "0\n",
      "1\n",
      "2\n",
      "3\n",
      "4\n",
      "5\n",
      "6\n",
      "7\n",
      "8\n",
      "9\n",
      "10\n",
      "11\n"
     ]
    }
   ],
   "source": [
    "for i in range(50):\n",
    "    print(i)\n",
    "    if i > 10:\n",
    "        break\n",
    "else:\n",
    "    print('break 못만남')"
   ]
  },
  {
   "cell_type": "code",
   "execution_count": 51,
   "id": "596cb300-6c65-419d-8165-0f375fb9bb92",
   "metadata": {
    "tags": []
   },
   "outputs": [
    {
     "name": "stdout",
     "output_type": "stream",
     "text": [
      "True\n",
      "False\n"
     ]
    }
   ],
   "source": [
    "numbers = [1, 2, 3, 4, 5]\n",
    "print(1 in numbers)\n",
    "print(99 in numbers)"
   ]
  },
  {
   "cell_type": "code",
   "execution_count": 62,
   "id": "96381d58-1432-4060-a4ad-fbce7fa30193",
   "metadata": {
    "tags": []
   },
   "outputs": [
    {
     "name": "stdout",
     "output_type": "stream",
     "text": [
      "True\n"
     ]
    }
   ],
   "source": [
    "numbers = [1, 2, 3, 4, 5]\n",
    "target = 1\n",
    "\n",
    "#numbers를 반복하다 타겟이 있으면 True 출력 없으면 False 출력\n",
    "for number in numbers:\n",
    "    if number == target:\n",
    "        print(\"True\")\n",
    "        break\n",
    "else:\n",
    "    print('False')"
   ]
  },
  {
   "cell_type": "markdown",
   "id": "6fc6d891-ef4d-4c69-8f14-07491cbe1b5e",
   "metadata": {},
   "source": [
    "#### pass"
   ]
  },
  {
   "cell_type": "code",
   "execution_count": 63,
   "id": "66f1e7b5-1421-4c60-bc1b-7f3dbf0eea80",
   "metadata": {
    "tags": []
   },
   "outputs": [],
   "source": [
    "if True:\n",
    "    pass"
   ]
  },
  {
   "cell_type": "code",
   "execution_count": 2,
   "id": "4c598d1c-5267-4790-ac5e-a6cabd34652c",
   "metadata": {
    "tags": []
   },
   "outputs": [],
   "source": [
    "def login():\n",
    "    pass\n",
    "\n",
    "def logout():\n",
    "    pass"
   ]
  },
  {
   "cell_type": "markdown",
   "id": "b7ec5b91-2a22-4db3-8946-de02c6c32d15",
   "metadata": {},
   "source": [
    "#### match\n",
    "```python\n",
    "match value:\n",
    "    case 조건:\n",
    "        실행할 코드\n",
    "    case 조건:\n",
    "        실행할 코드\n",
    "    case _:\n",
    "        실행할 코드\n",
    "```"
   ]
  },
  {
   "cell_type": "code",
   "execution_count": 65,
   "id": "7172d823-09f8-47c4-8e3f-b1ca1199f296",
   "metadata": {
    "tags": []
   },
   "outputs": [
    {
     "name": "stdout",
     "output_type": "stream",
     "text": [
      "not found\n"
     ]
    }
   ],
   "source": [
    "status = 404\n",
    "\n",
    "match status:\n",
    "    case 400:\n",
    "        print('bad request')\n",
    "    case 404:\n",
    "        print('not found')\n",
    "    case _:\n",
    "        print('something is long')"
   ]
  },
  {
   "cell_type": "code",
   "execution_count": null,
   "id": "d23c5ac4-c7aa-4b52-88c0-77444a02186d",
   "metadata": {},
   "outputs": [],
   "source": []
  }
 ],
 "metadata": {
  "kernelspec": {
   "display_name": "Python 3 (ipykernel)",
   "language": "python",
   "name": "python3"
  },
  "language_info": {
   "codemirror_mode": {
    "name": "ipython",
    "version": 3
   },
   "file_extension": ".py",
   "mimetype": "text/x-python",
   "name": "python",
   "nbconvert_exporter": "python",
   "pygments_lexer": "ipython3",
   "version": "3.11.4"
  }
 },
 "nbformat": 4,
 "nbformat_minor": 5
}
