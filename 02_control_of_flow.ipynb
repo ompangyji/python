{
 "cells": [
  {
   "cell_type": "markdown",
   "id": "10ab5120-b4e3-482a-942f-3ca992f094bd",
   "metadata": {},
   "source": [
    "# 제어문"
   ]
  },
  {
   "cell_type": "markdown",
   "id": "12de8d44-5131-425b-9611-1425636ff0ef",
   "metadata": {},
   "source": [
    "## 조건문(if문)\n",
    "```python\n",
    "if <조건식>:\n",
    "    if의 조건식이 참인 경우 실행하는 코드\n",
    "else:\n",
    "    if의 조건식이 거짓인 경우 실행하는 코드\n",
    "```\n",
    "\n",
    "\n",
    "1. `if`문은 반드시 참/거짓을 판단 할 수 있는 `조건식`과 함께 사용한다.\n",
    "2. `조건식`이 참인경우 : 이후의 문장을 실행한다.\n",
    "3. `조건식`이 거짓인 경우 `else` : 이후의 문장을 실행한다."
   ]
  },
  {
   "cell_type": "code",
   "execution_count": 2,
   "id": "5085059d-6f6b-46c1-9341-2f9a5492f4ba",
   "metadata": {
    "tags": []
   },
   "outputs": [
    {
     "name": "stdin",
     "output_type": "stream",
     "text": [
      " 12/25\n"
     ]
    },
    {
     "name": "stdout",
     "output_type": "stream",
     "text": [
      "크리스마스입니다.\n"
     ]
    }
   ],
   "source": [
    "my_string = input()\n",
    "\n",
    "if my_string == '12/25':\n",
    "    print('크리스마스입니다.')\n",
    "else:\n",
    "    print('크리스마스가 아닙니다.')"
   ]
  },
  {
   "cell_type": "code",
   "execution_count": 3,
   "id": "6a7f23c3-fb59-4181-9a95-4f146b9f3fbd",
   "metadata": {
    "tags": []
   },
   "outputs": [
    {
     "name": "stdin",
     "output_type": "stream",
     "text": [
      "숫자를 입력해주세요 :  1\n"
     ]
    },
    {
     "name": "stdout",
     "output_type": "stream",
     "text": [
      "홀수입니다.\n"
     ]
    }
   ],
   "source": [
    "num = input('숫자를 입력해주세요 : ')\n",
    "num = int(num)\n",
    "\n",
    "if num % 2 == 1:\n",
    "    print('홀수입니다.')\n",
    "else:\n",
    "    print('짝수입니다.')"
   ]
  },
  {
   "cell_type": "code",
   "execution_count": 4,
   "id": "0620652e-3439-4535-969e-2c374f97d42c",
   "metadata": {
    "tags": []
   },
   "outputs": [
    {
     "name": "stdin",
     "output_type": "stream",
     "text": [
      "숫자를 입력하세요 :  13\n"
     ]
    },
    {
     "name": "stdout",
     "output_type": "stream",
     "text": [
      "홀수입니다.\n"
     ]
    }
   ],
   "source": [
    "#num을 2로 나눈 나머지는 0, 1 두가지 경우가 잇다.\n",
    "#if 조건식에 0, 1은 자동형변환이 일어나 False, True로 변환된다.\n",
    "num = input('숫자를 입력하세요 : ')\n",
    "num = int(num)\n",
    "\n",
    "if num % 2:\n",
    "    print('홀수입니다.')\n",
    "else:\n",
    "    print('짝수입니다.')"
   ]
  },
  {
   "cell_type": "markdown",
   "id": "fb73a331-7c09-40c8-b6ce-01d442e20d5e",
   "metadata": {},
   "source": [
    "## elif\n",
    "\n",
    "```python\n",
    "if <조건식>:\n",
    "    if 조건이 참인 경우 실행\n",
    "elif <조건식>:\n",
    "    elif 조건이 참인 경우 실행\n",
    "...\n",
    "else:\n",
    "    위의 조건식에 하나도 부합하지 않는 경우 실행\n",
    "```"
   ]
  },
  {
   "cell_type": "code",
   "execution_count": 5,
   "id": "8d4132da-5278-4ae8-957d-b5617a7978cc",
   "metadata": {
    "tags": []
   },
   "outputs": [
    {
     "name": "stdin",
     "output_type": "stream",
     "text": [
      " 75\n"
     ]
    },
    {
     "name": "stdout",
     "output_type": "stream",
     "text": [
      "C\n"
     ]
    }
   ],
   "source": [
    "score = int(input())\n",
    "\n",
    "# 90점이상 A\n",
    "# 80점이상 B\n",
    "# 70점이상 C\n",
    "# 나머지 F\n",
    "\n",
    "if score > 90:\n",
    "    print('A')\n",
    "    if score >= 95:\n",
    "        print('good')\n",
    "elif 80 <= score:\n",
    "    print('B')\n",
    "elif 70 <= score:\n",
    "    print('C')\n",
    "else:\n",
    "    print('D')"
   ]
  },
  {
   "cell_type": "code",
   "execution_count": null,
   "id": "2d103b6b-8d76-4894-b185-7a861f463d0f",
   "metadata": {},
   "outputs": [],
   "source": []
  }
 ],
 "metadata": {
  "kernelspec": {
   "display_name": "Python 3 (ipykernel)",
   "language": "python",
   "name": "python3"
  },
  "language_info": {
   "codemirror_mode": {
    "name": "ipython",
    "version": 3
   },
   "file_extension": ".py",
   "mimetype": "text/x-python",
   "name": "python",
   "nbconvert_exporter": "python",
   "pygments_lexer": "ipython3",
   "version": "3.11.4"
  }
 },
 "nbformat": 4,
 "nbformat_minor": 5
}
